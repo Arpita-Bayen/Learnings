{
 "cells": [
  {
   "cell_type": "code",
   "execution_count": 21,
   "id": "4291005a",
   "metadata": {},
   "outputs": [
    {
     "name": "stdout",
     "output_type": "stream",
     "text": [
      "train: [1 4 5 6],test: [2 3]\n",
      "train: [1 2 3 4],test: [5 6]\n",
      "train: [2 3 5 6],test: [1 4]\n"
     ]
    }
   ],
   "source": [
    "#importing libraries\n",
    "from numpy import array\n",
    "from sklearn.model_selection import KFold\n",
    "\n",
    "#data sample\n",
    "data=array([1,2,3,4,5,6])\n",
    "\n",
    "#prepare cross validation\n",
    "kfold=KFold(n_splits=3, random_state=None, shuffle=True)\n",
    "\n",
    "#enumerate splits\n",
    "for train,test in kfold.split(data):\n",
    "    print('train: %s,test: %s' % (data[train],data[test]))"
   ]
  }
 ],
 "metadata": {
  "kernelspec": {
   "display_name": "Python 3 (ipykernel)",
   "language": "python",
   "name": "python3"
  },
  "language_info": {
   "codemirror_mode": {
    "name": "ipython",
    "version": 3
   },
   "file_extension": ".py",
   "mimetype": "text/x-python",
   "name": "python",
   "nbconvert_exporter": "python",
   "pygments_lexer": "ipython3",
   "version": "3.9.13"
  }
 },
 "nbformat": 4,
 "nbformat_minor": 5
}
