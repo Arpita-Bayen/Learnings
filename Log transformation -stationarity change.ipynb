{
 "cells": [
  {
   "cell_type": "code",
   "execution_count": null,
   "id": "0f0c2bba",
   "metadata": {},
   "outputs": [],
   "source": [
    "#importing adfuller from statsmodel library to check stationarity\n",
    "from statsmodels.tsa.stattools import adfuller\n",
    "\n",
    "dftest = adfuller(df['Shoe_Sales'])#Stationarity check on train time series data\n",
    "dftest\n",
    "print('DF test statistic is %3.3f' %dftest[0])\n",
    "print('DF test p-value is %1.4f' %dftest[1])\n",
    "print('Critical Values:')\n",
    "for dftest, value in dftest[4].items():\n",
    " print('\\t%s: %.3f' % (dftest, value),'\\n')"
   ]
  },
  {
   "cell_type": "code",
   "execution_count": null,
   "id": "e35a2017",
   "metadata": {},
   "outputs": [],
   "source": [
    "# log transformation\n",
    "df_log = df.copy()"
   ]
  },
  {
   "cell_type": "code",
   "execution_count": null,
   "id": "356975f1",
   "metadata": {},
   "outputs": [],
   "source": [
    "df_log['Shoe_Sales'] = np.log(df['Shoe_Sales'])"
   ]
  },
  {
   "cell_type": "code",
   "execution_count": null,
   "id": "c31b5158",
   "metadata": {},
   "outputs": [],
   "source": [
    "df_log"
   ]
  },
  {
   "cell_type": "code",
   "execution_count": null,
   "id": "6a0cda0f",
   "metadata": {},
   "outputs": [],
   "source": [
    "#Visualize the log transformed series\n",
    "df_log['Shoe_Sales'].plot()\n",
    "plt.xlabel('Years')\n",
    "plt.ylabel('Shoe-Sales Logarithmic Values')\n",
    "plt.title(label='Log transformed series')\n",
    "plt.show()"
   ]
  },
  {
   "cell_type": "code",
   "execution_count": null,
   "id": "15f981a7",
   "metadata": {},
   "outputs": [],
   "source": [
    "#Comparing both plots\n",
    "plt.subplot(2,1,1)\n",
    "df['Shoe_Sales'].plot()\n",
    "plt.title('Original Dataset')\n",
    "\n",
    "plt.subplot(2,1,2)\n",
    "df_log['Shoe_Sales'].plot()\n",
    "plt.title('Logarithmic transformed Dataset')\n",
    "\n",
    "plt.tight_layout()\n"
   ]
  },
  {
   "cell_type": "code",
   "execution_count": null,
   "id": "c959ac57",
   "metadata": {},
   "outputs": [],
   "source": [
    "df_test_adf=adfuller(df_log['Shoe_Sales'])#Stationarity check on train time series data\n",
    "df_test_adf\n",
    "print('DF test statistic is %3.3f' %df_test_adf[0])\n",
    "print('DF test p-value is %1.4f' %df_test_adf[1])\n",
    "print('Critical Values:')\n",
    "for df_test_adf, value in df_test_adf[4].items():\n",
    " print('\\t%s: %.3f' % (df_test_adf, value),'\\n')"
   ]
  }
 ],
 "metadata": {
  "kernelspec": {
   "display_name": "Python 3 (ipykernel)",
   "language": "python",
   "name": "python3"
  },
  "language_info": {
   "codemirror_mode": {
    "name": "ipython",
    "version": 3
   },
   "file_extension": ".py",
   "mimetype": "text/x-python",
   "name": "python",
   "nbconvert_exporter": "python",
   "pygments_lexer": "ipython3",
   "version": "3.9.13"
  }
 },
 "nbformat": 4,
 "nbformat_minor": 5
}
